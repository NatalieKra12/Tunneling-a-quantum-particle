{
 "cells": [
  {
   "cell_type": "code",
   "execution_count": 1,
   "metadata": {},
   "outputs": [],
   "source": [
    "import numpy as np\n",
    "import matplotlib.pyplot as plt\n",
    "from scipy.fftpack import fft, ifft, fftfreq\n",
    "import matplotlib.animation as animation\n",
    "\n",
    "N = 128   # number of lattice sites\n",
    "a = 1     # lattice spacing\n",
    "h = 1   \n",
    "m = 1     # mass of the particle\n",
    "x0 = -N*a/2  # starting position of the lattice\n",
    "\n",
    "# Parameters of the wave packet\n",
    "x_mean = -40\n",
    "p_mean = 0.5\n",
    "delta_x = 5 * a\n",
    "\n",
    "# x grid\n",
    "x = np.linspace(x0, x0 + N*a, N)"
   ]
  },
  {
   "cell_type": "code",
   "execution_count": 2,
   "metadata": {},
   "outputs": [],
   "source": [
    "# TASK 1 (x_mean = 0, p_mean = 0)"
   ]
  },
  {
   "cell_type": "code",
   "execution_count": 3,
   "metadata": {},
   "outputs": [],
   "source": [
    "# Initializing the wave function (x_mean = 0, p_mean = 0)\n",
    "psi = (2 * np.pi * delta_x**2)**(-1/4) * np.exp(-x**2 / (4 * delta_x**2))\n",
    "\n",
    "# Calculating second derivative analytically\n",
    "psi_ddx_analytical = ((x**2 - 2 * delta_x**2) / (4 * delta_x**4)) * psi\n",
    "\n",
    "# Enforcing boundary conditions\n",
    "psi_ddx_analytical[0] = psi_ddx_analytical[-1] = 0  "
   ]
  },
  {
   "cell_type": "code",
   "execution_count": 4,
   "metadata": {},
   "outputs": [],
   "source": [
    "# Defining the Fourier transform of the wave function\n",
    "psi_ft = fft(psi)\n",
    "\n",
    "# Defining the wave numbers\n",
    "k = 2 * np.pi * fftfreq(N, a)\n",
    "\n",
    "# Calculating the second derivative of psi using the spectral method\n",
    "chi_ft = -k**2 * psi_ft\n",
    "chi = ifft(chi_ft)\n",
    "\n",
    "# Enforcing boundary conditions\n",
    "chi[0] = chi[-1] = 0"
   ]
  },
  {
   "cell_type": "code",
   "execution_count": 5,
   "metadata": {},
   "outputs": [
    {
     "data": {
      "image/png": "[encoded data removed]",
      "text/plain": [
       "<Figure size 432x288 with 1 Axes>"
      ]
     },
     "metadata": {
      "needs_background": "light"
     },
     "output_type": "display_data"
    }
   ],
   "source": [
    "# Plotting the numerical and analytical second derivatives of psi\n",
    "plt.plot(x, np.real(chi), label='Numerical')\n",
    "plt.plot(x, np.real(psi_ddx_analytical), label='Analytical')\n",
    "plt.xlabel('Position (a)')\n",
    "plt.ylabel('Second Derivative of Psi')\n",
    "plt.title('Comparison of Numerical and Analytical Second Derivatives')\n",
    "plt.legend()\n",
    "\n",
    "#plt.savefig(\"second_derivative.png\")\n",
    "plt.show()"
   ]
  },
  {
   "cell_type": "code",
   "execution_count": 6,
   "metadata": {},
   "outputs": [],
   "source": [
    "# TASK 2"
   ]
  },
  {
   "cell_type": "code",
   "execution_count": 7,
   "metadata": {},
   "outputs": [],
   "source": [
    "# Defining the parameters of the barrier potential\n",
    "V0 = p_mean**2/4/m  # initial height of the barrier\n",
    "x1 = -delta_x  # position of the left edge of the barrier\n",
    "x2 = delta_x   # position of the right edge of the barrier\n",
    "\n",
    "V_init = np.zeros(N) # Barrier potential set to zero"
   ]
  },
  {
   "cell_type": "code",
   "execution_count": 8,
   "metadata": {},
   "outputs": [],
   "source": [
    "def f(psi, t, V):\n",
    "    # Calculating the second derivative of psi using the spectral method\n",
    "    psi_ft = fft(psi)\n",
    "    k = 2 * np.pi * fftfreq(len(psi), h)\n",
    "    d2psi_dx2 = ifft(-k**2 * psi_ft)\n",
    "\n",
    "    # Calculating the potential energy\n",
    "    Vpsi = V * psi\n",
    "    \n",
    "    # Calculating the time derivative of psi\n",
    "    dpsi_dt = -1j/h * (-h**2/(2*m) * d2psi_dx2 + Vpsi)\n",
    "    \n",
    "    return dpsi_dt"
   ]
  },
  {
   "cell_type": "code",
   "execution_count": 9,
   "metadata": {},
   "outputs": [
    {
     "name": "stdout",
     "output_type": "stream",
     "text": [
      "f works correctly with real-valued input\n",
      "f works correctly with complex-valued input\n"
     ]
    }
   ],
   "source": [
    "# Creating a real-valued test function\n",
    "test_func = np.random.rand(N)\n",
    "\n",
    "# Calculating the Fourier transform of the test function\n",
    "test_func_ft = fft(test_func)\n",
    "\n",
    "# Calculating the function f applied to the test function\n",
    "f_test = f(test_func_ft, 10, V_init)\n",
    "\n",
    "# Checking that the output of f is a complex-valued array with the same shape as the input\n",
    "if not isinstance(f_test, np.ndarray) or not np.iscomplexobj(f_test) or f_test.shape != test_func_ft.shape:\n",
    "    print(\"Error: f does not return a complex-valued array with the same shape as the input\")\n",
    "else:\n",
    "    print(\"f works correctly with real-valued input\")\n",
    "\n",
    "# Creating a complex-valued test function\n",
    "test_func_complex = np.random.rand(N) + 1j*np.random.rand(N)\n",
    "\n",
    "# Calculating the Fourier transform of the complex-valued test function\n",
    "test_func_complex_ft = fft(test_func_complex)\n",
    "\n",
    "# Calculating the function f applied to the complex-valued test function\n",
    "f_test_complex = f(test_func_complex_ft, 0, V_init)\n",
    "\n",
    "# Checking that the output of f is a complex-valued array with the same shape as the input\n",
    "if not isinstance(f_test_complex, np.ndarray) or not np.iscomplexobj(f_test_complex) or f_test_complex.shape != test_func_complex_ft.shape:\n",
    "    print(\"Error: f does not return a complex-valued array with the same shape as the input\")\n",
    "else:\n",
    "    print(\"f works correctly with complex-valued input\")"
   ]
  },
  {
   "cell_type": "code",
   "execution_count": 10,
   "metadata": {},
   "outputs": [],
   "source": [
    "# TASK 3 (x_mean = 0, p_mean != 0, no barrier potential)"
   ]
  },
  {
   "cell_type": "code",
   "execution_count": 11,
   "metadata": {},
   "outputs": [],
   "source": [
    "# Time parameters for wave function with no barrier potential\n",
    "dt_0 = 0.5  # Time step size\n",
    "T_0 = 55.0  # Total time\n",
    "n_0 = int(T_0 / dt_0)  # Number of time steps"
   ]
  },
  {
   "cell_type": "code",
   "execution_count": 12,
   "metadata": {},
   "outputs": [],
   "source": [
    "# Time evolution using the 4th-order Runge-Kutta method; x_mean = p_mean = 0, no barrier potential \n",
    "psi_time = np.zeros((n_0, len(x)))\n",
    "psi_time[0, :] = np.abs(psi)**2\n",
    "for i in range(n_0-1):\n",
    "   # Compute the time derivative at the current time step\n",
    "    k1 = f(psi, i*dt_0, V_init)\n",
    "    k2 = f(psi + 0.5*dt_0*k1, i*dt_0 + 0.5*dt_0, V_init)\n",
    "    k3 = f(psi + 0.5*dt_0*k2, i*dt_0 + 0.5*dt_0, V_init)\n",
    "    k4 = f(psi + dt_0*k3, (i+1)*dt_0, V_init)\n",
    "    psi = psi + (dt_0 / 6) * (k1 + 2*k2 + 2*k3 + k4)\n",
    "    psi_time[i+1] = np.abs(psi)**2"
   ]
  },
  {
   "cell_type": "code",
   "execution_count": 13,
   "metadata": {},
   "outputs": [
    {
     "name": "stdout",
     "output_type": "stream",
     "text": [
      "Max difference between numerical and predicted |psi(x, T)|^2: 0.0001914922020833168\n"
     ]
    },
    {
     "data": {
      "image/png": "[encoded data removed]",
      "text/plain": [
       "<Figure size 432x288 with 1 Axes>"
      ]
     },
     "metadata": {
      "needs_background": "light"
     },
     "output_type": "display_data"
    }
   ],
   "source": [
    "# Calculating the predicted wave function at time T at x_minus=0, p_minus=0\n",
    "psi_pred = (2*np.pi)**(-1/4) * (delta_x + 1j*h*T_0/(2*m*delta_x))**(-1/2) * np.exp(-x**2/(4*delta_x**2 + 2j*h*T_0/m))\n",
    "\n",
    "# Comparing |psi(x, T)|^2 with the prediction of psi(x, t) at time T\n",
    "diff = np.abs(psi)**2 - np.abs(psi_pred)**2\n",
    "max_diff = np.max(np.abs(diff))\n",
    "print(\"Max difference between numerical and predicted |psi(x, T)|^2:\", max_diff)\n",
    "\n",
    "#Plotting comparison of numerical and predicted |psi(x, T)|^2\n",
    "plt.plot(x, np.abs(psi)**2, label='Numerical')\n",
    "plt.plot(x, np.abs(psi_pred)**2, label='Predicted')\n",
    "plt.xlabel('x')\n",
    "plt.ylabel('|psi|^2')\n",
    "plt.ylim([0, 0.08])\n",
    "plt.title('Comparison of numerical and predicted |psi(x, T)|^2')\n",
    "plt.legend()\n",
    "\n",
    "#plt.savefig(\"psi_comparison.png\")\n",
    "plt.show()"
   ]
  },
  {
   "cell_type": "code",
   "execution_count": 14,
   "metadata": {},
   "outputs": [],
   "source": [
    "# Psi function with x_mean = 0, p_mean != 0, no barrier potential\n",
    "psi_p = (2 * np.pi * delta_x**2)**(-1/4) * np.exp(-x**2/ (4 * delta_x**2) + 1j*p_mean*x/h)\n",
    "\n",
    "# Time evolution using the 4th-order Runge-Kutta method; x_mean = 0, p_mean != 0, no barrier potential \n",
    "psi_p_time = np.zeros((n_0, len(x)))\n",
    "psi_p_time[0, :] = np.abs(psi_p)**2\n",
    "\n",
    "for i in range(n_0-1):\n",
    "   # Compute the time derivative at the current time step\n",
    "    k1 = f(psi_p, i*dt_0, V_init)\n",
    "    k2 = f(psi_p + 0.5*dt_0*k1, i*dt_0 + 0.5*dt_0, V_init)\n",
    "    k3 = f(psi_p + 0.5*dt_0*k2, i*dt_0 + 0.5*dt_0, V_init)\n",
    "    k4 = f(psi_p + dt_0*k3, (i+1)*dt_0, V_init)\n",
    "    psi_p = psi_p + (dt_0 / 6) * (k1 + 2*k2 + 2*k3 + k4)\n",
    "    psi_p_time[i+1] = np.abs(psi_p)**2"
   ]
  },
  {
   "cell_type": "code",
   "execution_count": 15,
   "metadata": {},
   "outputs": [
    {
     "data": {
      "image/png": "[encoded data removed]",
      "text/plain": [
       "<Figure size 432x288 with 1 Axes>"
      ]
     },
     "metadata": {
      "needs_background": "light"
     },
     "output_type": "display_data"
    }
   ],
   "source": [
    "# Time evolutio of wave function x_mean = 0, p_mean != 0, no barrier potential\n",
    "fig = plt.figure()\n",
    "ax = plt.axes(xlim=(-70, 70), ylim=(0.0, 0.10))\n",
    "ax.set_xlabel('x')\n",
    "ax.set_ylabel('|psi|^2')\n",
    "ax.set_title('Time evolution of |psi|^2 for delta_x=8a')\n",
    "line, = ax.plot([], [], lw = 3)\n",
    "def Init():\n",
    "    line.set_data([],[])\n",
    "    return line,\n",
    "def animate(i):\n",
    "    line.set_data(x, psi_p_time[i, :])\n",
    "    return line,\n",
    "ani = animation.FuncAnimation(fig, animate, init_func = Init, frames=n_0, interval = 20, blit=True)\n",
    "writergif = animation.PillowWriter(fps=60) \n",
    "#ani.save('psi_deltax_8a_evolution.gif', writer = writergif)"
   ]
  },
  {
   "cell_type": "code",
   "execution_count": 16,
   "metadata": {},
   "outputs": [],
   "source": [
    "# TASK 4 (x_mean != 0, p_mean !=0, barrier potential)"
   ]
  },
  {
   "cell_type": "code",
   "execution_count": 17,
   "metadata": {},
   "outputs": [],
   "source": [
    "# Time parameters for wave function with no barrier potential\n",
    "dt = 0.5  # Time step size\n",
    "T = 200.0  # Total time\n",
    "n = int(T / dt)  # Number of time steps"
   ]
  },
  {
   "cell_type": "code",
   "execution_count": 18,
   "metadata": {},
   "outputs": [],
   "source": [
    "# Calculating barrier potential values\n",
    "def smoothstep(x, edge0, edge1, V_max):\n",
    "    def clamp(x, lowerlimit = 0.0, upperlimit = 1.0):\n",
    "        if(x<lowerlimit):\n",
    "            return lowerlimit\n",
    "        if(x>upperlimit):\n",
    "            return lowerlimit\n",
    "        else:\n",
    "            return upperlimit\n",
    "        return x\n",
    "    x = clamp((x-edge0)/(edge1-edge0))\n",
    "    return V_max*x\n"
   ]
  },
  {
   "cell_type": "code",
   "execution_count": 19,
   "metadata": {},
   "outputs": [],
   "source": [
    "# Runge-Kutta function for psi with barrier potential\n",
    "def RK(psi, V):\n",
    "    psi_time = np.zeros((n, len(x)))\n",
    "    psi_time[0, :] = np.abs(psi)**2\n",
    "    for i in range(n-1):\n",
    "        k1 = f(psi, i*dt, V)\n",
    "        k2 = f(psi + 0.5*dt*k1, i*dt + 0.5*dt, V)\n",
    "        k3 = f(psi + 0.5*dt*k2, i*dt + 0.5*dt, V)\n",
    "        k4 = f(psi + dt*k3, (i+1)*dt, V)\n",
    "        psi = psi + (dt / 6) * (k1 + 2*k2 + 2*k3 + k4)\n",
    "        psi_time[i+1] = np.abs(psi)**2\n",
    "    return psi_time;"
   ]
  },
  {
   "cell_type": "code",
   "execution_count": 20,
   "metadata": {},
   "outputs": [],
   "source": [
    "# Time evolution of wave packet with barrier potential - animation\n",
    "def time_evolution(psi_time, V, V_max, name):\n",
    "    fig = plt.figure()\n",
    "    if (V_max>0.08):\n",
    "        ax = plt.axes(xlim=(-70, 70), ylim=(0.0, V_max+0.05))\n",
    "    else:\n",
    "        ax = plt.axes(xlim=(-70, 70), ylim=(0.0, 0.1))\n",
    "    ax.set_xlabel('x')\n",
    "    ax.set_ylabel('|psi|^2')\n",
    "    ax.set_title('Time evolution of |psi|^2')\n",
    "    line1, = ax.plot([], [], lw = 3)\n",
    "    line2, = ax.plot([], [], lw = 3)\n",
    "    def Init2():\n",
    "        line1.set_data([],[])\n",
    "        line2.set_data([],[])\n",
    "        return line1, line2,\n",
    "    def animate2(i):\n",
    "        line1.set_data(x, psi_time[i, :])\n",
    "        line2.set_data(x, V)\n",
    "        return line1, line2,\n",
    "    ani = animation.FuncAnimation(fig, animate2, init_func = Init2, frames=n, interval = 20, blit=True)\n",
    "    writergif = animation.PillowWriter(fps=90) \n",
    "    ani.save(name , writer = writergif)  "
   ]
  },
  {
   "cell_type": "code",
   "execution_count": 21,
   "metadata": {},
   "outputs": [],
   "source": [
    "# Psi function with x_mean != 0, p_mean != 0 with barrier potential\n",
    "psi_px = (2 * np.pi * delta_x**2)**(-1/4) * np.exp(-(x-x_mean)**2 / (4 * delta_x**2) + 1j*p_mean*x/h)\n",
    "\n",
    "# Calculating barrier potential\n",
    "V = np.zeros(len(x))\n",
    "for i in range(len(x)):\n",
    "    V[i] = smoothstep(x[i], x1, x2, V0)\n",
    "    \n",
    "# Time evolution using the 4th-order Runge-Kutta method; x_mean != 0, p_mean != 0, with barrier potential\n",
    "psi_px_time = np.zeros((n, len(x)))\n",
    "psi_px_time = RK(psi_px, V)\n",
    "\n",
    "#time_evolution(psi_px_time, V, V0, 'V1_wave_packet.gif')"
   ]
  },
  {
   "cell_type": "code",
   "execution_count": 22,
   "metadata": {},
   "outputs": [],
   "source": [
    "# Psi function with x_mean != 0, p_mean != 0 with barrier potential V_max = V0*10\n",
    "# Calculating barrier potential\n",
    "V_higher = np.zeros(len(x))\n",
    "for i in range(len(x)):\n",
    "    V_higher[i] = smoothstep(x[i], x1, x2, V0*10)\n",
    "    \n",
    "# Time evolution using the 4th-order Runge-Kutta method; x_mean != 0, p_mean != 0, with barrier potential\n",
    "psi_px_higher_time = np.zeros((n, len(x)))\n",
    "psi_px_higher_time = RK(psi_px, V_higher)\n",
    "\n",
    "#time_evolution(psi_px_higher_time, V_higher, V0*10, 'Vhigher_wave_packet.gif')"
   ]
  },
  {
   "cell_type": "code",
   "execution_count": 23,
   "metadata": {},
   "outputs": [],
   "source": [
    "# Psi function with x_mean != 0, p_mean != 0 with barrier potential V_max = V0/10\n",
    "# Calculating barrier potential\n",
    "V_lower = np.zeros(len(x))\n",
    "for i in range(len(x)):\n",
    "    V_lower[i] = smoothstep(x[i], x1, x2, V0/10)\n",
    "    \n",
    "# Time evolution using the 4th-order Runge-Kutta method; x_mean != 0, p_mean != 0, with barrier potential\n",
    "psi_px_lower_time = np.zeros((n, len(x)))\n",
    "psi_px_lower_time = RK(psi_px, V_lower)\n",
    "\n",
    "#time_evolution(psi_px_lower_time, V_lower, V0/10, 'Vlower_wave_packet.gif')"
   ]
  },
  {
   "cell_type": "code",
   "execution_count": 24,
   "metadata": {},
   "outputs": [],
   "source": [
    "# Psi function with x_mean != 0, p_mean != 0 with barrier potential L = 5*delta_x\n",
    "# Calculating barrier potential\n",
    "V_wider = np.zeros(len(x))\n",
    "for i in range(len(x)):\n",
    "    V_wider[i] = smoothstep(x[i], -5*delta_x/2, 5*delta_x/2, V0)\n",
    "    \n",
    "# Time evolution using the 4th-order Runge-Kutta method; x_mean != 0, p_mean != 0, with barrier potential\n",
    "psi_px_wider_time = np.zeros((n, len(x)))\n",
    "psi_px_wider_time = RK(psi_px, V_wider)\n",
    "\n",
    "#time_evolution(psi_px_wider_time, V_wider, V0, 'Vwider_wave_packet.gif')"
   ]
  },
  {
   "cell_type": "code",
   "execution_count": 25,
   "metadata": {},
   "outputs": [],
   "source": [
    "# Psi function with x_mean != 0, p_mean != 0 with barrier potential L = 0.5*delta_x\n",
    "# Calculating barrier potential\n",
    "V_narrower = np.zeros(len(x))\n",
    "for i in range(len(x)):\n",
    "    V_narrower[i] = smoothstep(x[i], -0.5*delta_x/2, 0.5*delta_x/2, V0)\n",
    "    \n",
    "# Time evolution using the 4th-order Runge-Kutta method; x_mean != 0, p_mean != 0, with barrier potential\n",
    "psi_px_narrower_time = np.zeros((n, len(x)))\n",
    "psi_px_narrower_time = RK(psi_px, V_narrower)\n",
    "\n",
    "#time_evolution(psi_px_narrower_time, V_narrower, V0, 'Vnarrower_wave_packet.gif')"
   ]
  },
  {
   "cell_type": "code",
   "execution_count": 26,
   "metadata": {},
   "outputs": [],
   "source": [
    "# Psi function with x_mean != 0, p_mean != 0 with barrier potential L = 0.9*a\n",
    "# Calculating barrier potential\n",
    "V_a = np.zeros(len(x))\n",
    "for i in range(len(x)):\n",
    "    V_a[i] = smoothstep(x[i], -0.9*a/2, 0.9*a/2, V0)\n",
    "    \n",
    "# Time evolution using the 4th-order Runge-Kutta method; x_mean != 0, p_mean != 0, with barrier potential\n",
    "psi_px_a_time = np.zeros((n, len(x)))\n",
    "psi_px_a_time = RK(psi_px, V_a)\n",
    "\n",
    "#time_evolution(psi_px_a_time, V_a, V0, 'Va_wave_packet.gif')"
   ]
  },
  {
   "cell_type": "code",
   "execution_count": null,
   "metadata": {},
   "outputs": [],
   "source": []
  }
 ],
 "metadata": {
  "kernelspec": {
   "display_name": "Python 3",
   "language": "python",
   "name": "python3"
  },
  "language_info": {
   "codemirror_mode": {
    "name": "ipython",
    "version": 3
   },
   "file_extension": ".py",
   "mimetype": "text/x-python",
   "name": "python",
   "nbconvert_exporter": "python",
   "pygments_lexer": "ipython3",
   "version": "3.8.10"
  }
 },
 "nbformat": 4,
 "nbformat_minor": 4
}
